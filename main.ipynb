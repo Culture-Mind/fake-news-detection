{
 "cells": [
  {
   "cell_type": "code",
   "execution_count": null,
   "id": "929dca27",
   "metadata": {},
   "outputs": [],
   "source": [
    "from newsapi.newsapi_client import NewsApiClient\n",
    "import random\n",
    "import os\n",
    "from dotenv import load_dotenv\n",
    "\n",
    "load_dotenv()"
   ]
  },
  {
   "cell_type": "code",
   "execution_count": null,
   "id": "7685e6f2",
   "metadata": {},
   "outputs": [],
   "source": [
    "from datetime import datetime, timedelta\n",
    "\n",
    "prev_date = datetime.today() - timedelta(days=30)\n",
    "next_date = datetime.today() - timedelta(days=0)\n",
    "\n",
    "p_date = str(prev_date.year) + '-' + str(prev_date.month) + '-' + str(prev_date.day)\n",
    "c_date = str(next_date.year) + '-' + str(next_date.month) + '-' + str(next_date.day)\n",
    "\n",
    "if prev_date.month < 10:\n",
    "    p_date = str(prev_date.year) + '-0' + str(prev_date.month) + '-' + str(prev_date.day)\n",
    "\n",
    "if next_date.month < 10:\n",
    "    c_date = str(next_date.year) + '-0' + str(next_date.month) + '-' + str(next_date.day)\n",
    "\n",
    "print(\"p_date =\", p_date)\n",
    "print(\"c_date =\", c_date)\n",
    "\n",
    "print(\"Api Key =\", os.environ[\"API_KEY\"])\n",
    "\n",
    "api_client = NewsApiClient(api_key=os.environ[\"API_KEY\"])\n",
    "\n",
    "def getNews(sourceId):\n",
    "    newses = api_client.get_everything(\n",
    "        sources=sourceId,\n",
    "        domains='bbc.co.uk,techcrunch.com',\n",
    "        from_param=p_date,\n",
    "        to=c_date,\n",
    "        language='en',\n",
    "        sort_by='relevancy',\n",
    "        page=2\n",
    "    )\n",
    "\n",
    "    newsData = []\n",
    "    for news in newses['articles']:\n",
    "        list = [random.randint(0, 1000), news['title'], news['content'], 'REAL']\n",
    "        newsData.append(list)\n",
    "\n",
    "    return newsData\n"
   ]
  },
  {
   "cell_type": "code",
   "execution_count": null,
   "id": "2f557dcd",
   "metadata": {},
   "outputs": [],
   "source": [
    "sources = api_client.get_sources()\n",
    "sourceList = []\n",
    "\n",
    "for source in sources['sources']:\n",
    "    sourceList.append(source['id'])\n",
    "\n",
    "del sourceList[10:]\n",
    "print(\"NEWs Sources:\", sourceList)"
   ]
  },
  {
   "cell_type": "code",
   "execution_count": null,
   "id": "b02ab672",
   "metadata": {},
   "outputs": [],
   "source": [
    "newsList = []\n",
    "for sourceId in sourceList:\n",
    "    newsData = getNews(sourceId)\n",
    "    newsList = newsList + newsData\n",
    "\n",
    "print('Total News: ', len(newsList))"
   ]
  },
  {
   "cell_type": "code",
   "execution_count": null,
   "id": "473d30d3",
   "metadata": {},
   "outputs": [],
   "source": [
    "import pandas as pd\n",
    "df = pd.DataFrame.from_records(newsList)\n",
    "df.columns = ['', 'title', 'text', 'label']\n",
    "print(df.head)"
   ]
  },
  {
   "cell_type": "code",
   "execution_count": null,
   "id": "e7833344",
   "metadata": {},
   "outputs": [],
   "source": [
    "# Add fake news dataset\n",
    "train_data = pd.read_csv('news.csv')\n",
    "train_data.columns = ['', 'title', 'text', 'label']\n",
    "\n",
    "data = [train_data, df]\n",
    "df = pd.concat(data)"
   ]
  },
  {
   "cell_type": "code",
   "execution_count": null,
   "id": "04a9634a",
   "metadata": {},
   "outputs": [],
   "source": [
    "from sklearn.model_selection import train_test_split\n",
    "from sklearn.feature_extraction.text import CountVectorizer\n",
    "from sklearn.linear_model import PassiveAggressiveClassifier\n",
    "from sklearn.metrics import accuracy_score\n",
    "\n",
    "training_x, testing_x, training_y, testing_y = train_test_split(\n",
    "    df['text'], df.label, test_size=0.3, random_state=7\n",
    ")\n",
    "\n",
    "print(training_x.shape)\n",
    "print(testing_x.shape)"
   ]
  },
  {
   "cell_type": "code",
   "execution_count": null,
   "id": "3764eac2",
   "metadata": {},
   "outputs": [],
   "source": [
    "# Encoding or Feature Extraction (Selection)\n",
    "count_vectorizer = CountVectorizer(stop_words='english', max_df=0.7)\n",
    "feature_train = count_vectorizer.fit_transform(training_x)\n",
    "feature_test = count_vectorizer.transform(testing_x)"
   ]
  },
  {
   "cell_type": "code",
   "execution_count": null,
   "id": "b8af83dc",
   "metadata": {},
   "outputs": [],
   "source": [
    "# Use PassiveAggressiveClassifier\n",
    "classifier = PassiveAggressiveClassifier(max_iter=50)\n",
    "classifier.fit(feature_train, training_y)\n",
    "prediction = classifier.predict(feature_test)\n",
    "score = accuracy_score(testing_y, prediction)\n",
    "\n",
    "print(\"Accuracy: \", score)"
   ]
  },
  {
   "cell_type": "code",
   "execution_count": null,
   "id": "46e0d407",
   "metadata": {},
   "outputs": [],
   "source": [
    "# Load Test Data and Evaluate\n",
    "test_data = pd.read_csv('test.csv')\n",
    "test_labels = test_data.label\n",
    "test_data.head()\n",
    "\n",
    "test_data_feature = count_vectorizer.transform(test_data['text'])\n",
    "prediction = classifier.predict(test_data_feature)\n",
    "score = accuracy_score(test_labels, prediction)\n",
    "print(\"Accuracy: \", score*100, \"%\")"
   ]
  }
 ],
 "metadata": {
  "kernelspec": {
   "display_name": "flask-restx",
   "language": "python",
   "name": "python3"
  },
  "language_info": {
   "codemirror_mode": {
    "name": "ipython",
    "version": 3
   },
   "file_extension": ".py",
   "mimetype": "text/x-python",
   "name": "python",
   "nbconvert_exporter": "python",
   "pygments_lexer": "ipython3",
   "version": "3.12.3"
  }
 },
 "nbformat": 4,
 "nbformat_minor": 5
}
